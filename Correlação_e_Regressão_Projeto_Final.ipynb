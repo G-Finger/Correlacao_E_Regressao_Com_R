{
  "cells": [
    {
      "cell_type": "markdown",
      "metadata": {
        "id": "WvMflodMjQKe"
      },
      "source": [
        "# <font color=green size=10>CURSO DE ESTATÍSTICA - PARTE 4</font>\n",
        "***\n",
        "\n",
        "## Trabalho sobre correlação e regressão\n",
        "\n",
        "Utilizando os conhecimentos adquiridos em nosso treinamento realize a análise de regressão proposta abaixo.\n",
        "\n",
        "Siga o roteiro proposto e vá completando as células vazias."
      ]
    },
    {
      "cell_type": "markdown",
      "metadata": {
        "id": "cVgsZ_E3jQKg"
      },
      "source": [
        "# <font color=green>DATASET DO PROJETO</font>\n",
        "***"
      ]
    },
    {
      "cell_type": "markdown",
      "metadata": {
        "id": "I4293oHyZTNh"
      },
      "source": [
        "### Fonte: https://www.kaggle.com/dongeorge/beer-consumption-sao-paulo\n",
        "\n",
        "### Descrição:\n",
        "A cerveja é uma das bebidas mais democráticas e consumidas no mundo. Não sem razão, é perfeito para quase todas as situações, desde o happy hour até grandes festas de casamento.\n",
        "\n",
        "Os dados (amostra) foram coletados em São Paulo - Brasil, em uma área universitária, onde existem algumas festas com grupos de alunos de 18 a 28 anos de idade (média).\n",
        "\n",
        "### Dados:\n",
        "- **X** - Temperatura Média (°C) - do dia e não da cerveja\n",
        "- **Y** - Consumo de Cerveja (litros)\n"
      ]
    },
    {
      "cell_type": "markdown",
      "metadata": {
        "id": "ZIqLOffNTg1Y"
      },
      "source": [
        "---"
      ]
    },
    {
      "cell_type": "markdown",
      "metadata": {
        "id": "8Rw70V6ojQKk"
      },
      "source": [
        "### Utilize a célula abaixo para carregar os pacotes e/ou fazer configurações para o projeto"
      ]
    },
    {
      "cell_type": "code",
      "execution_count": 102,
      "metadata": {
        "id": "fcTgimHBybMz"
      },
      "outputs": [],
      "source": [
        "library(ggplot2)\n",
        "library(dplyr)"
      ]
    },
    {
      "cell_type": "markdown",
      "metadata": {
        "id": "Blpb0v-6ZTNv"
      },
      "source": [
        "### Importe o dataset\n",
        "\n",
        "#### <font color=red>Utilize o parâmetro **sep = ';'** da função **read.csv** para importar corretamente o conjunto de dados. O dataset do projeto utiliza como separador de colunas o caractere ';'."
      ]
    },
    {
      "cell_type": "code",
      "execution_count": 103,
      "metadata": {
        "id": "vrf8BOm7ZTNw"
      },
      "outputs": [],
      "source": [
        "dados_consumo<-read.csv(\"Consumo_cerveja.csv\")\n",
        "dados_projeto<-read.csv(\"dados_projeto.csv\",sep = ';')"
      ]
    },
    {
      "cell_type": "markdown",
      "metadata": {
        "id": "Oq3CKHCmTg1j"
      },
      "source": [
        "### Visualize o conteúdo do Data Frame"
      ]
    },
    {
      "cell_type": "code",
      "execution_count": 104,
      "metadata": {
        "colab": {
          "base_uri": "https://localhost:8080/",
          "height": 255
        },
        "id": "bpj9gwIbZTNz",
        "outputId": "de381f02-e298-440e-8956-f8d52e9bebee"
      },
      "outputs": [
        {
          "output_type": "display_data",
          "data": {
            "text/html": [
              "<table class=\"dataframe\">\n",
              "<caption>A data.frame: 5 × 7</caption>\n",
              "<thead>\n",
              "\t<tr><th></th><th scope=col>Data</th><th scope=col>Temperatura.Media..C.</th><th scope=col>Temperatura.Minima..C.</th><th scope=col>Temperatura.Maxima..C.</th><th scope=col>Precipitacao..mm.</th><th scope=col>Final.de.Semana</th><th scope=col>Consumo.de.cerveja..litros.</th></tr>\n",
              "\t<tr><th></th><th scope=col>&lt;chr&gt;</th><th scope=col>&lt;chr&gt;</th><th scope=col>&lt;chr&gt;</th><th scope=col>&lt;chr&gt;</th><th scope=col>&lt;chr&gt;</th><th scope=col>&lt;int&gt;</th><th scope=col>&lt;dbl&gt;</th></tr>\n",
              "</thead>\n",
              "<tbody>\n",
              "\t<tr><th scope=row>1</th><td>2015-01-01</td><td>27,3 </td><td>23,9</td><td>32,5</td><td>0  </td><td>0</td><td>25.461</td></tr>\n",
              "\t<tr><th scope=row>2</th><td>2015-01-02</td><td>27,02</td><td>24,5</td><td>33,5</td><td>0  </td><td>0</td><td>28.972</td></tr>\n",
              "\t<tr><th scope=row>3</th><td>2015-01-03</td><td>24,82</td><td>22,4</td><td>29,9</td><td>0  </td><td>1</td><td>30.814</td></tr>\n",
              "\t<tr><th scope=row>4</th><td>2015-01-04</td><td>23,98</td><td>21,5</td><td>28,6</td><td>1,2</td><td>1</td><td>29.799</td></tr>\n",
              "\t<tr><th scope=row>5</th><td>2015-01-05</td><td>23,82</td><td>21  </td><td>28,3</td><td>0  </td><td>0</td><td>28.900</td></tr>\n",
              "</tbody>\n",
              "</table>\n"
            ],
            "text/markdown": "\nA data.frame: 5 × 7\n\n| <!--/--> | Data &lt;chr&gt; | Temperatura.Media..C. &lt;chr&gt; | Temperatura.Minima..C. &lt;chr&gt; | Temperatura.Maxima..C. &lt;chr&gt; | Precipitacao..mm. &lt;chr&gt; | Final.de.Semana &lt;int&gt; | Consumo.de.cerveja..litros. &lt;dbl&gt; |\n|---|---|---|---|---|---|---|---|\n| 1 | 2015-01-01 | 27,3  | 23,9 | 32,5 | 0   | 0 | 25.461 |\n| 2 | 2015-01-02 | 27,02 | 24,5 | 33,5 | 0   | 0 | 28.972 |\n| 3 | 2015-01-03 | 24,82 | 22,4 | 29,9 | 0   | 1 | 30.814 |\n| 4 | 2015-01-04 | 23,98 | 21,5 | 28,6 | 1,2 | 1 | 29.799 |\n| 5 | 2015-01-05 | 23,82 | 21   | 28,3 | 0   | 0 | 28.900 |\n\n",
            "text/latex": "A data.frame: 5 × 7\n\\begin{tabular}{r|lllllll}\n  & Data & Temperatura.Media..C. & Temperatura.Minima..C. & Temperatura.Maxima..C. & Precipitacao..mm. & Final.de.Semana & Consumo.de.cerveja..litros.\\\\\n  & <chr> & <chr> & <chr> & <chr> & <chr> & <int> & <dbl>\\\\\n\\hline\n\t1 & 2015-01-01 & 27,3  & 23,9 & 32,5 & 0   & 0 & 25.461\\\\\n\t2 & 2015-01-02 & 27,02 & 24,5 & 33,5 & 0   & 0 & 28.972\\\\\n\t3 & 2015-01-03 & 24,82 & 22,4 & 29,9 & 0   & 1 & 30.814\\\\\n\t4 & 2015-01-04 & 23,98 & 21,5 & 28,6 & 1,2 & 1 & 29.799\\\\\n\t5 & 2015-01-05 & 23,82 & 21   & 28,3 & 0   & 0 & 28.900\\\\\n\\end{tabular}\n",
            "text/plain": [
              "  Data       Temperatura.Media..C. Temperatura.Minima..C.\n",
              "1 2015-01-01 27,3                  23,9                  \n",
              "2 2015-01-02 27,02                 24,5                  \n",
              "3 2015-01-03 24,82                 22,4                  \n",
              "4 2015-01-04 23,98                 21,5                  \n",
              "5 2015-01-05 23,82                 21                    \n",
              "  Temperatura.Maxima..C. Precipitacao..mm. Final.de.Semana\n",
              "1 32,5                   0                 0              \n",
              "2 33,5                   0                 0              \n",
              "3 29,9                   0                 1              \n",
              "4 28,6                   1,2               1              \n",
              "5 28,3                   0                 0              \n",
              "  Consumo.de.cerveja..litros.\n",
              "1 25.461                     \n",
              "2 28.972                     \n",
              "3 30.814                     \n",
              "4 29.799                     \n",
              "5 28.900                     "
            ]
          },
          "metadata": {}
        }
      ],
      "source": [
        "head(dados_consumo,5)"
      ]
    },
    {
      "cell_type": "code",
      "execution_count": 105,
      "metadata": {
        "colab": {
          "base_uri": "https://localhost:8080/",
          "height": 255
        },
        "id": "GsC_WhLFjQKq",
        "outputId": "4959f5cc-016c-4e3e-9c85-500fb1197fdb",
        "scrolled": true
      },
      "outputs": [
        {
          "output_type": "display_data",
          "data": {
            "text/html": [
              "<table class=\"dataframe\">\n",
              "<caption>A data.frame: 5 × 2</caption>\n",
              "<thead>\n",
              "\t<tr><th></th><th scope=col>Y</th><th scope=col>X</th></tr>\n",
              "\t<tr><th></th><th scope=col>&lt;int&gt;</th><th scope=col>&lt;dbl&gt;</th></tr>\n",
              "</thead>\n",
              "<tbody>\n",
              "\t<tr><th scope=row>1</th><td>25461</td><td>27.30</td></tr>\n",
              "\t<tr><th scope=row>2</th><td>28972</td><td>27.02</td></tr>\n",
              "\t<tr><th scope=row>3</th><td>30814</td><td>24.82</td></tr>\n",
              "\t<tr><th scope=row>4</th><td>29799</td><td>23.98</td></tr>\n",
              "\t<tr><th scope=row>5</th><td>28900</td><td>23.82</td></tr>\n",
              "</tbody>\n",
              "</table>\n"
            ],
            "text/markdown": "\nA data.frame: 5 × 2\n\n| <!--/--> | Y &lt;int&gt; | X &lt;dbl&gt; |\n|---|---|---|\n| 1 | 25461 | 27.30 |\n| 2 | 28972 | 27.02 |\n| 3 | 30814 | 24.82 |\n| 4 | 29799 | 23.98 |\n| 5 | 28900 | 23.82 |\n\n",
            "text/latex": "A data.frame: 5 × 2\n\\begin{tabular}{r|ll}\n  & Y & X\\\\\n  & <int> & <dbl>\\\\\n\\hline\n\t1 & 25461 & 27.30\\\\\n\t2 & 28972 & 27.02\\\\\n\t3 & 30814 & 24.82\\\\\n\t4 & 29799 & 23.98\\\\\n\t5 & 28900 & 23.82\\\\\n\\end{tabular}\n",
            "text/plain": [
              "  Y     X    \n",
              "1 25461 27.30\n",
              "2 28972 27.02\n",
              "3 30814 24.82\n",
              "4 29799 23.98\n",
              "5 28900 23.82"
            ]
          },
          "metadata": {}
        }
      ],
      "source": [
        "head(dados_projeto,5)"
      ]
    },
    {
      "cell_type": "code",
      "source": [
        "dados_consumo_final <- dados_consumo[, -c(1, 3,4,5,6)]\n",
        "dados_consumo_final"
      ],
      "metadata": {
        "colab": {
          "base_uri": "https://localhost:8080/",
          "height": 1000
        },
        "id": "sLNeCqFEf_0b",
        "outputId": "b888d3db-cd3f-4d0e-9376-8aa48869783b"
      },
      "execution_count": 106,
      "outputs": [
        {
          "output_type": "display_data",
          "data": {
            "text/html": [
              "<table class=\"dataframe\">\n",
              "<caption>A data.frame: 941 × 2</caption>\n",
              "<thead>\n",
              "\t<tr><th scope=col>Temperatura.Media..C.</th><th scope=col>Consumo.de.cerveja..litros.</th></tr>\n",
              "\t<tr><th scope=col>&lt;chr&gt;</th><th scope=col>&lt;dbl&gt;</th></tr>\n",
              "</thead>\n",
              "<tbody>\n",
              "\t<tr><td>27,3 </td><td>25.461</td></tr>\n",
              "\t<tr><td>27,02</td><td>28.972</td></tr>\n",
              "\t<tr><td>24,82</td><td>30.814</td></tr>\n",
              "\t<tr><td>23,98</td><td>29.799</td></tr>\n",
              "\t<tr><td>23,82</td><td>28.900</td></tr>\n",
              "\t<tr><td>23,78</td><td>28.218</td></tr>\n",
              "\t<tr><td>24   </td><td>29.732</td></tr>\n",
              "\t<tr><td>24,9 </td><td>28.397</td></tr>\n",
              "\t<tr><td>28,2 </td><td>24.886</td></tr>\n",
              "\t<tr><td>26,76</td><td>37.937</td></tr>\n",
              "\t<tr><td>27,62</td><td>36.254</td></tr>\n",
              "\t<tr><td>25,96</td><td>25.743</td></tr>\n",
              "\t<tr><td>25,52</td><td>26.990</td></tr>\n",
              "\t<tr><td>25,96</td><td>31.825</td></tr>\n",
              "\t<tr><td>25,86</td><td>25.724</td></tr>\n",
              "\t<tr><td>26,5 </td><td>29.938</td></tr>\n",
              "\t<tr><td>28,86</td><td>37.690</td></tr>\n",
              "\t<tr><td>28,26</td><td>30.524</td></tr>\n",
              "\t<tr><td>28,22</td><td>29.265</td></tr>\n",
              "\t<tr><td>27,68</td><td>35.127</td></tr>\n",
              "\t<tr><td>25,32</td><td>29.130</td></tr>\n",
              "\t<tr><td>21,74</td><td>25.795</td></tr>\n",
              "\t<tr><td>21,04</td><td>21.784</td></tr>\n",
              "\t<tr><td>23,12</td><td>28.348</td></tr>\n",
              "\t<tr><td>24,4 </td><td>31.088</td></tr>\n",
              "\t<tr><td>22,4 </td><td>21.520</td></tr>\n",
              "\t<tr><td>23,6 </td><td>29.972</td></tr>\n",
              "\t<tr><td>25,68</td><td>22.603</td></tr>\n",
              "\t<tr><td>25   </td><td>22.696</td></tr>\n",
              "\t<tr><td>22,8 </td><td>26.845</td></tr>\n",
              "\t<tr><td>⋮</td><td>⋮</td></tr>\n",
              "\t<tr><td></td><td>NA</td></tr>\n",
              "\t<tr><td></td><td>NA</td></tr>\n",
              "\t<tr><td></td><td>NA</td></tr>\n",
              "\t<tr><td></td><td>NA</td></tr>\n",
              "\t<tr><td></td><td>NA</td></tr>\n",
              "\t<tr><td></td><td>NA</td></tr>\n",
              "\t<tr><td></td><td>NA</td></tr>\n",
              "\t<tr><td></td><td>NA</td></tr>\n",
              "\t<tr><td></td><td>NA</td></tr>\n",
              "\t<tr><td></td><td>NA</td></tr>\n",
              "\t<tr><td></td><td>NA</td></tr>\n",
              "\t<tr><td></td><td>NA</td></tr>\n",
              "\t<tr><td></td><td>NA</td></tr>\n",
              "\t<tr><td></td><td>NA</td></tr>\n",
              "\t<tr><td></td><td>NA</td></tr>\n",
              "\t<tr><td></td><td>NA</td></tr>\n",
              "\t<tr><td></td><td>NA</td></tr>\n",
              "\t<tr><td></td><td>NA</td></tr>\n",
              "\t<tr><td></td><td>NA</td></tr>\n",
              "\t<tr><td></td><td>NA</td></tr>\n",
              "\t<tr><td></td><td>NA</td></tr>\n",
              "\t<tr><td></td><td>NA</td></tr>\n",
              "\t<tr><td></td><td>NA</td></tr>\n",
              "\t<tr><td></td><td>NA</td></tr>\n",
              "\t<tr><td></td><td>NA</td></tr>\n",
              "\t<tr><td></td><td>NA</td></tr>\n",
              "\t<tr><td></td><td>NA</td></tr>\n",
              "\t<tr><td></td><td>NA</td></tr>\n",
              "\t<tr><td></td><td>NA</td></tr>\n",
              "\t<tr><td></td><td>NA</td></tr>\n",
              "</tbody>\n",
              "</table>\n"
            ],
            "text/markdown": "\nA data.frame: 941 × 2\n\n| Temperatura.Media..C. &lt;chr&gt; | Consumo.de.cerveja..litros. &lt;dbl&gt; |\n|---|---|\n| 27,3  | 25.461 |\n| 27,02 | 28.972 |\n| 24,82 | 30.814 |\n| 23,98 | 29.799 |\n| 23,82 | 28.900 |\n| 23,78 | 28.218 |\n| 24    | 29.732 |\n| 24,9  | 28.397 |\n| 28,2  | 24.886 |\n| 26,76 | 37.937 |\n| 27,62 | 36.254 |\n| 25,96 | 25.743 |\n| 25,52 | 26.990 |\n| 25,96 | 31.825 |\n| 25,86 | 25.724 |\n| 26,5  | 29.938 |\n| 28,86 | 37.690 |\n| 28,26 | 30.524 |\n| 28,22 | 29.265 |\n| 27,68 | 35.127 |\n| 25,32 | 29.130 |\n| 21,74 | 25.795 |\n| 21,04 | 21.784 |\n| 23,12 | 28.348 |\n| 24,4  | 31.088 |\n| 22,4  | 21.520 |\n| 23,6  | 29.972 |\n| 25,68 | 22.603 |\n| 25    | 22.696 |\n| 22,8  | 26.845 |\n| ⋮ | ⋮ |\n| <!----> | NA |\n| <!----> | NA |\n| <!----> | NA |\n| <!----> | NA |\n| <!----> | NA |\n| <!----> | NA |\n| <!----> | NA |\n| <!----> | NA |\n| <!----> | NA |\n| <!----> | NA |\n| <!----> | NA |\n| <!----> | NA |\n| <!----> | NA |\n| <!----> | NA |\n| <!----> | NA |\n| <!----> | NA |\n| <!----> | NA |\n| <!----> | NA |\n| <!----> | NA |\n| <!----> | NA |\n| <!----> | NA |\n| <!----> | NA |\n| <!----> | NA |\n| <!----> | NA |\n| <!----> | NA |\n| <!----> | NA |\n| <!----> | NA |\n| <!----> | NA |\n| <!----> | NA |\n| <!----> | NA |\n\n",
            "text/latex": "A data.frame: 941 × 2\n\\begin{tabular}{ll}\n Temperatura.Media..C. & Consumo.de.cerveja..litros.\\\\\n <chr> & <dbl>\\\\\n\\hline\n\t 27,3  & 25.461\\\\\n\t 27,02 & 28.972\\\\\n\t 24,82 & 30.814\\\\\n\t 23,98 & 29.799\\\\\n\t 23,82 & 28.900\\\\\n\t 23,78 & 28.218\\\\\n\t 24    & 29.732\\\\\n\t 24,9  & 28.397\\\\\n\t 28,2  & 24.886\\\\\n\t 26,76 & 37.937\\\\\n\t 27,62 & 36.254\\\\\n\t 25,96 & 25.743\\\\\n\t 25,52 & 26.990\\\\\n\t 25,96 & 31.825\\\\\n\t 25,86 & 25.724\\\\\n\t 26,5  & 29.938\\\\\n\t 28,86 & 37.690\\\\\n\t 28,26 & 30.524\\\\\n\t 28,22 & 29.265\\\\\n\t 27,68 & 35.127\\\\\n\t 25,32 & 29.130\\\\\n\t 21,74 & 25.795\\\\\n\t 21,04 & 21.784\\\\\n\t 23,12 & 28.348\\\\\n\t 24,4  & 31.088\\\\\n\t 22,4  & 21.520\\\\\n\t 23,6  & 29.972\\\\\n\t 25,68 & 22.603\\\\\n\t 25    & 22.696\\\\\n\t 22,8  & 26.845\\\\\n\t ⋮ & ⋮\\\\\n\t  & NA\\\\\n\t  & NA\\\\\n\t  & NA\\\\\n\t  & NA\\\\\n\t  & NA\\\\\n\t  & NA\\\\\n\t  & NA\\\\\n\t  & NA\\\\\n\t  & NA\\\\\n\t  & NA\\\\\n\t  & NA\\\\\n\t  & NA\\\\\n\t  & NA\\\\\n\t  & NA\\\\\n\t  & NA\\\\\n\t  & NA\\\\\n\t  & NA\\\\\n\t  & NA\\\\\n\t  & NA\\\\\n\t  & NA\\\\\n\t  & NA\\\\\n\t  & NA\\\\\n\t  & NA\\\\\n\t  & NA\\\\\n\t  & NA\\\\\n\t  & NA\\\\\n\t  & NA\\\\\n\t  & NA\\\\\n\t  & NA\\\\\n\t  & NA\\\\\n\\end{tabular}\n",
            "text/plain": [
              "    Temperatura.Media..C. Consumo.de.cerveja..litros.\n",
              "1   27,3                  25.461                     \n",
              "2   27,02                 28.972                     \n",
              "3   24,82                 30.814                     \n",
              "4   23,98                 29.799                     \n",
              "5   23,82                 28.900                     \n",
              "6   23,78                 28.218                     \n",
              "7   24                    29.732                     \n",
              "8   24,9                  28.397                     \n",
              "9   28,2                  24.886                     \n",
              "10  26,76                 37.937                     \n",
              "11  27,62                 36.254                     \n",
              "12  25,96                 25.743                     \n",
              "13  25,52                 26.990                     \n",
              "14  25,96                 31.825                     \n",
              "15  25,86                 25.724                     \n",
              "16  26,5                  29.938                     \n",
              "17  28,86                 37.690                     \n",
              "18  28,26                 30.524                     \n",
              "19  28,22                 29.265                     \n",
              "20  27,68                 35.127                     \n",
              "21  25,32                 29.130                     \n",
              "22  21,74                 25.795                     \n",
              "23  21,04                 21.784                     \n",
              "24  23,12                 28.348                     \n",
              "25  24,4                  31.088                     \n",
              "26  22,4                  21.520                     \n",
              "27  23,6                  29.972                     \n",
              "28  25,68                 22.603                     \n",
              "29  25                    22.696                     \n",
              "30  22,8                  26.845                     \n",
              "⋮   ⋮                     ⋮                          \n",
              "912                       NA                         \n",
              "913                       NA                         \n",
              "914                       NA                         \n",
              "915                       NA                         \n",
              "916                       NA                         \n",
              "917                       NA                         \n",
              "918                       NA                         \n",
              "919                       NA                         \n",
              "920                       NA                         \n",
              "921                       NA                         \n",
              "922                       NA                         \n",
              "923                       NA                         \n",
              "924                       NA                         \n",
              "925                       NA                         \n",
              "926                       NA                         \n",
              "927                       NA                         \n",
              "928                       NA                         \n",
              "929                       NA                         \n",
              "930                       NA                         \n",
              "931                       NA                         \n",
              "932                       NA                         \n",
              "933                       NA                         \n",
              "934                       NA                         \n",
              "935                       NA                         \n",
              "936                       NA                         \n",
              "937                       NA                         \n",
              "938                       NA                         \n",
              "939                       NA                         \n",
              "940                       NA                         \n",
              "941                       NA                         "
            ]
          },
          "metadata": {}
        }
      ]
    },
    {
      "cell_type": "code",
      "source": [
        "colnames(dados_consumo_final) <- c(\"X\", \"Y\")\n",
        "head(dados_consumo_final,5)"
      ],
      "metadata": {
        "colab": {
          "base_uri": "https://localhost:8080/",
          "height": 255
        },
        "id": "QJRKwE2cgYa6",
        "outputId": "a00fafe9-b396-4012-dbaf-5aeeda887a53"
      },
      "execution_count": 107,
      "outputs": [
        {
          "output_type": "display_data",
          "data": {
            "text/html": [
              "<table class=\"dataframe\">\n",
              "<caption>A data.frame: 5 × 2</caption>\n",
              "<thead>\n",
              "\t<tr><th></th><th scope=col>X</th><th scope=col>Y</th></tr>\n",
              "\t<tr><th></th><th scope=col>&lt;chr&gt;</th><th scope=col>&lt;dbl&gt;</th></tr>\n",
              "</thead>\n",
              "<tbody>\n",
              "\t<tr><th scope=row>1</th><td>27,3 </td><td>25.461</td></tr>\n",
              "\t<tr><th scope=row>2</th><td>27,02</td><td>28.972</td></tr>\n",
              "\t<tr><th scope=row>3</th><td>24,82</td><td>30.814</td></tr>\n",
              "\t<tr><th scope=row>4</th><td>23,98</td><td>29.799</td></tr>\n",
              "\t<tr><th scope=row>5</th><td>23,82</td><td>28.900</td></tr>\n",
              "</tbody>\n",
              "</table>\n"
            ],
            "text/markdown": "\nA data.frame: 5 × 2\n\n| <!--/--> | X &lt;chr&gt; | Y &lt;dbl&gt; |\n|---|---|---|\n| 1 | 27,3  | 25.461 |\n| 2 | 27,02 | 28.972 |\n| 3 | 24,82 | 30.814 |\n| 4 | 23,98 | 29.799 |\n| 5 | 23,82 | 28.900 |\n\n",
            "text/latex": "A data.frame: 5 × 2\n\\begin{tabular}{r|ll}\n  & X & Y\\\\\n  & <chr> & <dbl>\\\\\n\\hline\n\t1 & 27,3  & 25.461\\\\\n\t2 & 27,02 & 28.972\\\\\n\t3 & 24,82 & 30.814\\\\\n\t4 & 23,98 & 29.799\\\\\n\t5 & 23,82 & 28.900\\\\\n\\end{tabular}\n",
            "text/plain": [
              "  X     Y     \n",
              "1 27,3  25.461\n",
              "2 27,02 28.972\n",
              "3 24,82 30.814\n",
              "4 23,98 29.799\n",
              "5 23,82 28.900"
            ]
          },
          "metadata": {}
        }
      ]
    },
    {
      "cell_type": "code",
      "source": [
        "# Substituir vírgula por ponto e converter para numeric\n",
        "dados_consumo_final$X <- as.numeric(gsub(\",\", \".\",dados_consumo_final$X))\n",
        "head(dados_consumo_final,5)"
      ],
      "metadata": {
        "colab": {
          "base_uri": "https://localhost:8080/",
          "height": 255
        },
        "id": "IWwt4z6MhLUj",
        "outputId": "f8791862-a8ca-438f-8262-10a6d4cbf141"
      },
      "execution_count": 108,
      "outputs": [
        {
          "output_type": "display_data",
          "data": {
            "text/html": [
              "<table class=\"dataframe\">\n",
              "<caption>A data.frame: 5 × 2</caption>\n",
              "<thead>\n",
              "\t<tr><th></th><th scope=col>X</th><th scope=col>Y</th></tr>\n",
              "\t<tr><th></th><th scope=col>&lt;dbl&gt;</th><th scope=col>&lt;dbl&gt;</th></tr>\n",
              "</thead>\n",
              "<tbody>\n",
              "\t<tr><th scope=row>1</th><td>27.30</td><td>25.461</td></tr>\n",
              "\t<tr><th scope=row>2</th><td>27.02</td><td>28.972</td></tr>\n",
              "\t<tr><th scope=row>3</th><td>24.82</td><td>30.814</td></tr>\n",
              "\t<tr><th scope=row>4</th><td>23.98</td><td>29.799</td></tr>\n",
              "\t<tr><th scope=row>5</th><td>23.82</td><td>28.900</td></tr>\n",
              "</tbody>\n",
              "</table>\n"
            ],
            "text/markdown": "\nA data.frame: 5 × 2\n\n| <!--/--> | X &lt;dbl&gt; | Y &lt;dbl&gt; |\n|---|---|---|\n| 1 | 27.30 | 25.461 |\n| 2 | 27.02 | 28.972 |\n| 3 | 24.82 | 30.814 |\n| 4 | 23.98 | 29.799 |\n| 5 | 23.82 | 28.900 |\n\n",
            "text/latex": "A data.frame: 5 × 2\n\\begin{tabular}{r|ll}\n  & X & Y\\\\\n  & <dbl> & <dbl>\\\\\n\\hline\n\t1 & 27.30 & 25.461\\\\\n\t2 & 27.02 & 28.972\\\\\n\t3 & 24.82 & 30.814\\\\\n\t4 & 23.98 & 29.799\\\\\n\t5 & 23.82 & 28.900\\\\\n\\end{tabular}\n",
            "text/plain": [
              "  X     Y     \n",
              "1 27.30 25.461\n",
              "2 27.02 28.972\n",
              "3 24.82 30.814\n",
              "4 23.98 29.799\n",
              "5 23.82 28.900"
            ]
          },
          "metadata": {}
        }
      ]
    },
    {
      "cell_type": "code",
      "source": [
        "# Remove o separador de milhar e converte para numeric\n",
        "dados_consumo_final$Y <- as.numeric(gsub(\"\\\\.\", \"\", dados_consumo_final$Y))\n",
        "head(dados_consumo_final,5)"
      ],
      "metadata": {
        "colab": {
          "base_uri": "https://localhost:8080/",
          "height": 255
        },
        "id": "TvWvdCdYhwBL",
        "outputId": "e9ece75b-40e7-4754-8c10-fa1120c035ee"
      },
      "execution_count": 109,
      "outputs": [
        {
          "output_type": "display_data",
          "data": {
            "text/html": [
              "<table class=\"dataframe\">\n",
              "<caption>A data.frame: 5 × 2</caption>\n",
              "<thead>\n",
              "\t<tr><th></th><th scope=col>X</th><th scope=col>Y</th></tr>\n",
              "\t<tr><th></th><th scope=col>&lt;dbl&gt;</th><th scope=col>&lt;dbl&gt;</th></tr>\n",
              "</thead>\n",
              "<tbody>\n",
              "\t<tr><th scope=row>1</th><td>27.30</td><td>25461</td></tr>\n",
              "\t<tr><th scope=row>2</th><td>27.02</td><td>28972</td></tr>\n",
              "\t<tr><th scope=row>3</th><td>24.82</td><td>30814</td></tr>\n",
              "\t<tr><th scope=row>4</th><td>23.98</td><td>29799</td></tr>\n",
              "\t<tr><th scope=row>5</th><td>23.82</td><td>  289</td></tr>\n",
              "</tbody>\n",
              "</table>\n"
            ],
            "text/markdown": "\nA data.frame: 5 × 2\n\n| <!--/--> | X &lt;dbl&gt; | Y &lt;dbl&gt; |\n|---|---|---|\n| 1 | 27.30 | 25461 |\n| 2 | 27.02 | 28972 |\n| 3 | 24.82 | 30814 |\n| 4 | 23.98 | 29799 |\n| 5 | 23.82 |   289 |\n\n",
            "text/latex": "A data.frame: 5 × 2\n\\begin{tabular}{r|ll}\n  & X & Y\\\\\n  & <dbl> & <dbl>\\\\\n\\hline\n\t1 & 27.30 & 25461\\\\\n\t2 & 27.02 & 28972\\\\\n\t3 & 24.82 & 30814\\\\\n\t4 & 23.98 & 29799\\\\\n\t5 & 23.82 &   289\\\\\n\\end{tabular}\n",
            "text/plain": [
              "  X     Y    \n",
              "1 27.30 25461\n",
              "2 27.02 28972\n",
              "3 24.82 30814\n",
              "4 23.98 29799\n",
              "5 23.82   289"
            ]
          },
          "metadata": {}
        }
      ]
    },
    {
      "cell_type": "code",
      "source": [
        "sum(is.na(dados_consumo_final$Y))"
      ],
      "metadata": {
        "colab": {
          "base_uri": "https://localhost:8080/",
          "height": 34
        },
        "id": "t8fNZTjjiU0v",
        "outputId": "3979f6c3-724e-48af-f143-cedabdecae7f"
      },
      "execution_count": 110,
      "outputs": [
        {
          "output_type": "display_data",
          "data": {
            "text/html": [
              "576"
            ],
            "text/markdown": "576",
            "text/latex": "576",
            "text/plain": [
              "[1] 576"
            ]
          },
          "metadata": {}
        }
      ]
    },
    {
      "cell_type": "markdown",
      "source": [
        "Tem mais de 576 valores NA no dataframe. Vamos tirar turdo"
      ],
      "metadata": {
        "id": "b1NNOwBoiZ2k"
      }
    },
    {
      "cell_type": "code",
      "source": [
        "# Retorna apenas as linhas onde todos os valores não são NA\n",
        "dados_consumo_final <- dados_consumo_final[complete.cases(dados_consumo_final), ]"
      ],
      "metadata": {
        "id": "L7PYZcruigab"
      },
      "execution_count": 111,
      "outputs": []
    },
    {
      "cell_type": "code",
      "source": [
        "sum(is.na(dados_consumo_final$Y)) # vamos ver se há algum \"NA\""
      ],
      "metadata": {
        "colab": {
          "base_uri": "https://localhost:8080/",
          "height": 34
        },
        "id": "Vvk8JMFbiry4",
        "outputId": "f1947b52-7047-4ecd-e106-9108e3851862"
      },
      "execution_count": 112,
      "outputs": [
        {
          "output_type": "display_data",
          "data": {
            "text/html": [
              "0"
            ],
            "text/markdown": "0",
            "text/latex": "0",
            "text/plain": [
              "[1] 0"
            ]
          },
          "metadata": {}
        }
      ]
    },
    {
      "cell_type": "code",
      "source": [
        "nrow(dados_consumo_final)"
      ],
      "metadata": {
        "colab": {
          "base_uri": "https://localhost:8080/",
          "height": 34
        },
        "id": "d5uDEJRuisxm",
        "outputId": "d6c4e4f0-58fe-48d4-a023-44bbf509275c"
      },
      "execution_count": 113,
      "outputs": [
        {
          "output_type": "display_data",
          "data": {
            "text/html": [
              "365"
            ],
            "text/markdown": "365",
            "text/latex": "365",
            "text/plain": [
              "[1] 365"
            ]
          },
          "metadata": {}
        }
      ]
    },
    {
      "cell_type": "markdown",
      "metadata": {
        "id": "xzGuwM4xpslc"
      },
      "source": [
        "### Obtenha e avalie as estatísticas descritivas dos dados"
      ]
    },
    {
      "cell_type": "code",
      "execution_count": 114,
      "metadata": {
        "colab": {
          "base_uri": "https://localhost:8080/",
          "height": 34
        },
        "id": "nuNSrzfYpsld",
        "outputId": "bf7fb68e-6bff-402d-ded2-b88ddf78b7c5",
        "scrolled": true
      },
      "outputs": [
        {
          "output_type": "display_data",
          "data": {
            "text/html": [
              "365"
            ],
            "text/markdown": "365",
            "text/latex": "365",
            "text/plain": [
              "[1] 365"
            ]
          },
          "metadata": {}
        }
      ],
      "source": [
        "# número de linhas\n",
        "nrow(dados_consumo_final)"
      ]
    },
    {
      "cell_type": "code",
      "source": [
        "print(sprintf(\"O valor médio de temperatura em são paulo é: %.2f °C\", mean(dados_consumo_final$X)))\n",
        "print(sprintf(\"O consumo médio em São Paulo (em litros) por dia é: %.2f L/dia \", mean(dados_consumo_final$Y)))"
      ],
      "metadata": {
        "colab": {
          "base_uri": "https://localhost:8080/"
        },
        "id": "mo5YuT_HjBfv",
        "outputId": "4d4092ec-9b67-4bcb-dd34-b927c30edb5b"
      },
      "execution_count": 115,
      "outputs": [
        {
          "output_type": "stream",
          "name": "stdout",
          "text": [
            "[1] \"O valor médio de temperatura em são paulo é: 21.23 °C\"\n",
            "[1] \"O consumo médio em São Paulo (em litros) por dia é: 22934.04 L/dia \"\n"
          ]
        }
      ]
    },
    {
      "cell_type": "code",
      "source": [
        "summary(dados_consumo_final)"
      ],
      "metadata": {
        "colab": {
          "base_uri": "https://localhost:8080/",
          "height": 139
        },
        "id": "gmp-IuXMlgnR",
        "outputId": "4a6c58d8-8219-4c8b-cd48-cece38b23f83"
      },
      "execution_count": 116,
      "outputs": [
        {
          "output_type": "display_data",
          "data": {
            "text/plain": [
              "       X               Y        \n",
              " Min.   :12.90   Min.   :   24  \n",
              " 1st Qu.:19.02   1st Qu.:21092  \n",
              " Median :21.38   Median :24304  \n",
              " Mean   :21.23   Mean   :22934  \n",
              " 3rd Qu.:23.28   3rd Qu.:28034  \n",
              " Max.   :28.86   Max.   :37937  "
            ]
          },
          "metadata": {}
        }
      ]
    },
    {
      "cell_type": "markdown",
      "metadata": {
        "id": "SM6EQrsdZTN8"
      },
      "source": [
        "### Análise gráfica\n",
        "### Construa um box plot para cada variável do dataset"
      ]
    },
    {
      "cell_type": "code",
      "execution_count": 117,
      "metadata": {
        "colab": {
          "base_uri": "https://localhost:8080/",
          "height": 437
        },
        "id": "W-W9IOs1psle",
        "outputId": "5d3f879d-c6b5-42f1-809b-51fd83fe932a",
        "scrolled": false
      },
      "outputs": [
        {
          "output_type": "display_data",
          "data": {
            "text/plain": [
              "plot without title"
            ],
            "image/png": "[encoded data removed]"
          },
          "metadata": {
            "image/png": {
              "width": 420,
              "height": 420
            }
          }
        }
      ],
      "source": [
        "ggplot(dados_consumo_final, aes(x = \"\", y = X)) +\n",
        "  stat_boxplot(geom ='errorbar', width = 0.4) +\n",
        "  geom_boxplot(fill =\"Orange\") +\n",
        "  coord_flip() +\n",
        "  xlab(\"\") +\n",
        "  ylab(\"Temperatura\") +\n",
        "  ggtitle('Box-plot') +\n",
        "  theme(\n",
        "      plot.title = element_text(size = 16, hjust = 0.5),\n",
        "      axis.title.y = element_text(size = 14, vjust = +0.2),\n",
        "      axis.title.x = element_text(size = 14, vjust = -0.2),\n",
        "      axis.text.y = element_text(size = 12),\n",
        "      axis.text.x = element_text(size = 12)\n",
        "  )\n"
      ]
    },
    {
      "cell_type": "code",
      "source": [
        "ggplot(dados_consumo_final, aes(x = \"\", y = Y)) +\n",
        "  stat_boxplot(geom ='errorbar', width = 0.4) +\n",
        "  geom_boxplot(fill =\"lightBlue\") +\n",
        "  coord_flip() +\n",
        "  xlab(\"\") +\n",
        "  ylab(\"Consumo\") +\n",
        "  ggtitle('Box-plot') +\n",
        "  theme(\n",
        "      plot.title = element_text(size = 16, hjust = 0.5),\n",
        "      axis.title.y = element_text(size = 14, vjust = +0.2),\n",
        "      axis.title.x = element_text(size = 14, vjust = -0.2),\n",
        "      axis.text.y = element_text(size = 12),\n",
        "      axis.text.x = element_text(size = 12)\n",
        "  )\n"
      ],
      "metadata": {
        "colab": {
          "base_uri": "https://localhost:8080/",
          "height": 437
        },
        "id": "1frMxFqSm5Ww",
        "outputId": "d1d2920f-9189-45ed-94f6-054fca6ca890"
      },
      "execution_count": 118,
      "outputs": [
        {
          "output_type": "display_data",
          "data": {
            "text/plain": [
              "plot without title"
            ],
            "image/png": "[encoded data removed]"
          },
          "metadata": {
            "image/png": {
              "width": 420,
              "height": 420
            }
          }
        }
      ]
    },
    {
      "cell_type": "markdown",
      "metadata": {
        "id": "kcdTQNDtZTOC"
      },
      "source": [
        "### Identifique se existe uma relação linear entre as variáveis $Y$ e $X$\n",
        "### <font color='red'>Utilizando o método gráfico</font>"
      ]
    },
    {
      "cell_type": "code",
      "execution_count": 156,
      "metadata": {
        "colab": {
          "base_uri": "https://localhost:8080/",
          "height": 454
        },
        "id": "bQ2tLs6OZTOD",
        "outputId": "a04dff05-5d28-4a50-884b-490180a92436"
      },
      "outputs": [
        {
          "output_type": "stream",
          "name": "stderr",
          "text": [
            "\u001b[1m\u001b[22m`geom_smooth()` using formula = 'y ~ x'\n"
          ]
        },
        {
          "output_type": "display_data",
          "data": {
            "text/plain": [
              "plot without title"
            ],
            "image/png": "[encoded data removed]"
          },
          "metadata": {
            "image/png": {
              "width": 420,
              "height": 420
            }
          }
        }
      ],
      "source": [
        "ggplot(data = dados_consumo_final, aes(x = X, y = Y)) +\n",
        "    geom_point(size = 1.5, stroke = 0) +\n",
        "    geom_smooth(method = lm) +\n",
        "    xlab(\"Temperatura\") +\n",
        "    ylab(\"Consumo em litros de 'Bera'\") +\n",
        "    ggtitle('Reta de Regressão - temp X consumo') +\n",
        "    theme(\n",
        "        plot.title=element_text(size = 16, hjust = 0.5),\n",
        "        axis.title.y=element_text(size = 14, vjust = +0.2),\n",
        "        axis.title.x=element_text(size = 14, vjust = -0.2),\n",
        "        axis.text.y=element_text(size = 12),\n",
        "        axis.text.x=element_text(size = 12),\n",
        "    )"
      ]
    },
    {
      "cell_type": "markdown",
      "metadata": {
        "id": "V3pRHkxrZTOG"
      },
      "source": [
        "### <font color='red'>Utilizando a matriz de correlação</font>"
      ]
    },
    {
      "cell_type": "code",
      "execution_count": 120,
      "metadata": {
        "colab": {
          "base_uri": "https://localhost:8080/",
          "height": 129
        },
        "id": "szUKCsdNZTOG",
        "outputId": "65e3a9c0-0e9b-4ee8-c274-1bb117597d91"
      },
      "outputs": [
        {
          "output_type": "display_data",
          "data": {
            "text/html": [
              "<table class=\"dataframe\">\n",
              "<caption>A matrix: 2 × 2 of type dbl</caption>\n",
              "<thead>\n",
              "\t<tr><th></th><th scope=col>X</th><th scope=col>Y</th></tr>\n",
              "</thead>\n",
              "<tbody>\n",
              "\t<tr><th scope=row>X</th><td>1.0000000</td><td>0.2611021</td></tr>\n",
              "\t<tr><th scope=row>Y</th><td>0.2611021</td><td>1.0000000</td></tr>\n",
              "</tbody>\n",
              "</table>\n"
            ],
            "text/markdown": "\nA matrix: 2 × 2 of type dbl\n\n| <!--/--> | X | Y |\n|---|---|---|\n| X | 1.0000000 | 0.2611021 |\n| Y | 0.2611021 | 1.0000000 |\n\n",
            "text/latex": "A matrix: 2 × 2 of type dbl\n\\begin{tabular}{r|ll}\n  & X & Y\\\\\n\\hline\n\tX & 1.0000000 & 0.2611021\\\\\n\tY & 0.2611021 & 1.0000000\\\\\n\\end{tabular}\n",
            "text/plain": [
              "  X         Y        \n",
              "X 1.0000000 0.2611021\n",
              "Y 0.2611021 1.0000000"
            ]
          },
          "metadata": {}
        }
      ],
      "source": [
        "cor(dados_consumo_final) # aparentemente há pouco correlação entre a temperatura e consumo de beras no campus estudado."
      ]
    },
    {
      "cell_type": "markdown",
      "metadata": {
        "id": "FqjloX9CZTOJ"
      },
      "source": [
        "### Avalie os resultados acima:\n",
        "\n",
        "É possível afirmar que existe uma relação linear entre as variáveis?\n",
        "\n",
        "\n",
        "<span style=\"color:green;\">Resp.: Pelo gráfico, aparentemente sim.</span>\n",
        "\n",
        "É possível quantificar a intensidade dessa relação?\n",
        "\n",
        "<span style=\"color:red;\">Resp.: Ainda não, uma vez que o coeficiente de correlação é baixo. </span>\n",
        "\n",
        "É possível afirmar que existe uma relação de causalidade entre $Y$ e $X$ a partir dos resultados da matriz de correlação?\n",
        "\n",
        "Resp.: A matriz de correlação nunca pode ser usada para afirmar algo sobre causalidade."
      ]
    },
    {
      "cell_type": "markdown",
      "metadata": {
        "id": "atGXG2cbZTON"
      },
      "source": [
        "### Estime o modelo de regressão linear simples"
      ]
    },
    {
      "cell_type": "code",
      "execution_count": 124,
      "metadata": {
        "colab": {
          "base_uri": "https://localhost:8080/",
          "height": 139
        },
        "id": "RZj-LLWJZTOO",
        "outputId": "e4137c04-8881-4f3c-b384-0eaf7124e1e6"
      },
      "outputs": [
        {
          "output_type": "display_data",
          "data": {
            "text/plain": [
              "\n",
              "Call:\n",
              "lm(formula = Y ~ X, data = dados_consumo_final)\n",
              "\n",
              "Coefficients:\n",
              "(Intercept)            X  \n",
              "     8744.3        668.5  \n"
            ]
          },
          "metadata": {}
        }
      ],
      "source": [
        "resultado_regressao <- lm(formula = Y~X, data = dados_consumo_final)\n",
        "resultado_regressao"
      ]
    },
    {
      "cell_type": "code",
      "source": [
        "summary(resultado_regressao)"
      ],
      "metadata": {
        "colab": {
          "base_uri": "https://localhost:8080/",
          "height": 329
        },
        "id": "y-vNC9tBpNG5",
        "outputId": "bf3e89f9-6d7c-4297-b54a-705fe9f51588"
      },
      "execution_count": 125,
      "outputs": [
        {
          "output_type": "display_data",
          "data": {
            "text/plain": [
              "\n",
              "Call:\n",
              "lm(formula = Y ~ X, data = dados_consumo_final)\n",
              "\n",
              "Residuals:\n",
              "   Min     1Q Median     3Q    Max \n",
              "-24766  -1216   1365   4518  11657 \n",
              "\n",
              "Coefficients:\n",
              "            Estimate Std. Error t value Pr(>|t|)    \n",
              "(Intercept)   8744.3     2784.1   3.141  0.00182 ** \n",
              "X              668.5      129.7   5.153 4.21e-07 ***\n",
              "---\n",
              "Signif. codes:  0 ‘***’ 0.001 ‘**’ 0.01 ‘*’ 0.05 ‘.’ 0.1 ‘ ’ 1\n",
              "\n",
              "Residual standard error: 7870 on 363 degrees of freedom\n",
              "Multiple R-squared:  0.06817,\tAdjusted R-squared:  0.06561 \n",
              "F-statistic: 26.56 on 1 and 363 DF,  p-value: 4.209e-07\n"
            ]
          },
          "metadata": {}
        }
      ]
    },
    {
      "cell_type": "markdown",
      "metadata": {
        "id": "brIOPkVsZTOT"
      },
      "source": [
        "### Visualize o resultado da regressão"
      ]
    },
    {
      "cell_type": "markdown",
      "metadata": {
        "id": "qRYMfNCTZTOX"
      },
      "source": [
        "### Obtenha o $Y$ previsto"
      ]
    },
    {
      "cell_type": "code",
      "execution_count": 128,
      "metadata": {
        "colab": {
          "base_uri": "https://localhost:8080/",
          "height": 412
        },
        "id": "5EvF5aPQZTOY",
        "outputId": "c677d477-a00c-4fe1-d024-73be22a54d05",
        "scrolled": true
      },
      "outputs": [
        {
          "output_type": "display_data",
          "data": {
            "text/html": [
              "<table class=\"dataframe\">\n",
              "<caption>A data.frame: 10 × 3</caption>\n",
              "<thead>\n",
              "\t<tr><th></th><th scope=col>X</th><th scope=col>Y</th><th scope=col>Y_previsto</th></tr>\n",
              "\t<tr><th></th><th scope=col>&lt;dbl&gt;</th><th scope=col>&lt;dbl&gt;</th><th scope=col>&lt;dbl&gt;</th></tr>\n",
              "</thead>\n",
              "<tbody>\n",
              "\t<tr><th scope=row>1</th><td>27.30</td><td>25461</td><td>26994.23</td></tr>\n",
              "\t<tr><th scope=row>2</th><td>27.02</td><td>28972</td><td>26807.05</td></tr>\n",
              "\t<tr><th scope=row>3</th><td>24.82</td><td>30814</td><td>25336.37</td></tr>\n",
              "\t<tr><th scope=row>4</th><td>23.98</td><td>29799</td><td>24774.83</td></tr>\n",
              "\t<tr><th scope=row>5</th><td>23.82</td><td>  289</td><td>24667.87</td></tr>\n",
              "\t<tr><th scope=row>6</th><td>23.78</td><td>28218</td><td>24641.13</td></tr>\n",
              "\t<tr><th scope=row>7</th><td>24.00</td><td>29732</td><td>24788.20</td></tr>\n",
              "\t<tr><th scope=row>8</th><td>24.90</td><td>28397</td><td>25389.85</td></tr>\n",
              "\t<tr><th scope=row>9</th><td>28.20</td><td>24886</td><td>27595.88</td></tr>\n",
              "\t<tr><th scope=row>10</th><td>26.76</td><td>37937</td><td>26633.25</td></tr>\n",
              "</tbody>\n",
              "</table>\n"
            ],
            "text/markdown": "\nA data.frame: 10 × 3\n\n| <!--/--> | X &lt;dbl&gt; | Y &lt;dbl&gt; | Y_previsto &lt;dbl&gt; |\n|---|---|---|---|\n| 1 | 27.30 | 25461 | 26994.23 |\n| 2 | 27.02 | 28972 | 26807.05 |\n| 3 | 24.82 | 30814 | 25336.37 |\n| 4 | 23.98 | 29799 | 24774.83 |\n| 5 | 23.82 |   289 | 24667.87 |\n| 6 | 23.78 | 28218 | 24641.13 |\n| 7 | 24.00 | 29732 | 24788.20 |\n| 8 | 24.90 | 28397 | 25389.85 |\n| 9 | 28.20 | 24886 | 27595.88 |\n| 10 | 26.76 | 37937 | 26633.25 |\n\n",
            "text/latex": "A data.frame: 10 × 3\n\\begin{tabular}{r|lll}\n  & X & Y & Y\\_previsto\\\\\n  & <dbl> & <dbl> & <dbl>\\\\\n\\hline\n\t1 & 27.30 & 25461 & 26994.23\\\\\n\t2 & 27.02 & 28972 & 26807.05\\\\\n\t3 & 24.82 & 30814 & 25336.37\\\\\n\t4 & 23.98 & 29799 & 24774.83\\\\\n\t5 & 23.82 &   289 & 24667.87\\\\\n\t6 & 23.78 & 28218 & 24641.13\\\\\n\t7 & 24.00 & 29732 & 24788.20\\\\\n\t8 & 24.90 & 28397 & 25389.85\\\\\n\t9 & 28.20 & 24886 & 27595.88\\\\\n\t10 & 26.76 & 37937 & 26633.25\\\\\n\\end{tabular}\n",
            "text/plain": [
              "   X     Y     Y_previsto\n",
              "1  27.30 25461 26994.23  \n",
              "2  27.02 28972 26807.05  \n",
              "3  24.82 30814 25336.37  \n",
              "4  23.98 29799 24774.83  \n",
              "5  23.82   289 24667.87  \n",
              "6  23.78 28218 24641.13  \n",
              "7  24.00 29732 24788.20  \n",
              "8  24.90 28397 25389.85  \n",
              "9  28.20 24886 27595.88  \n",
              "10 26.76 37937 26633.25  "
            ]
          },
          "metadata": {}
        }
      ],
      "source": [
        "dados_consumo_final['Y_previsto'] <- resultado_regressao$fitted.values\n",
        "head(dados_consumo_final,10)\n"
      ]
    },
    {
      "cell_type": "code",
      "source": [
        "coefficients(resultado_regressao)"
      ],
      "metadata": {
        "colab": {
          "base_uri": "https://localhost:8080/",
          "height": 34
        },
        "id": "M3m5dSULrddc",
        "outputId": "b94b958a-e2e5-41bc-ec1a-894f9048d086"
      },
      "execution_count": 129,
      "outputs": [
        {
          "output_type": "display_data",
          "data": {
            "text/html": [
              "<style>\n",
              ".dl-inline {width: auto; margin:0; padding: 0}\n",
              ".dl-inline>dt, .dl-inline>dd {float: none; width: auto; display: inline-block}\n",
              ".dl-inline>dt::after {content: \":\\0020\"; padding-right: .5ex}\n",
              ".dl-inline>dt:not(:first-of-type) {padding-left: .5ex}\n",
              "</style><dl class=dl-inline><dt>(Intercept)</dt><dd>8744.33444142134</dd><dt>X</dt><dd>668.494444601208</dd></dl>\n"
            ],
            "text/markdown": "(Intercept)\n:   8744.33444142134X\n:   668.494444601208\n\n",
            "text/latex": "\\begin{description*}\n\\item[(Intercept)] 8744.33444142134\n\\item[X] 668.494444601208\n\\end{description*}\n",
            "text/plain": [
              "(Intercept)           X \n",
              "  8744.3344    668.4944 "
            ]
          },
          "metadata": {}
        }
      ]
    },
    {
      "cell_type": "code",
      "source": [
        "# outra maneira de obtermos a tabela resumo seria por meio de:\n",
        "resumo <- summary(resultado_regressao)\n",
        "resumo$coefficients"
      ],
      "metadata": {
        "colab": {
          "base_uri": "https://localhost:8080/",
          "height": 129
        },
        "id": "5XW1IL7SrlzJ",
        "outputId": "9fa5e870-5ceb-4263-a382-0f055c631f12"
      },
      "execution_count": 132,
      "outputs": [
        {
          "output_type": "display_data",
          "data": {
            "text/html": [
              "<table class=\"dataframe\">\n",
              "<caption>A matrix: 2 × 4 of type dbl</caption>\n",
              "<thead>\n",
              "\t<tr><th></th><th scope=col>Estimate</th><th scope=col>Std. Error</th><th scope=col>t value</th><th scope=col>Pr(&gt;|t|)</th></tr>\n",
              "</thead>\n",
              "<tbody>\n",
              "\t<tr><th scope=row>(Intercept)</th><td>8744.3344</td><td>2784.0940</td><td>3.140819</td><td>1.823018e-03</td></tr>\n",
              "\t<tr><th scope=row>X</th><td> 668.4944</td><td> 129.7183</td><td>5.153430</td><td>4.208701e-07</td></tr>\n",
              "</tbody>\n",
              "</table>\n"
            ],
            "text/markdown": "\nA matrix: 2 × 4 of type dbl\n\n| <!--/--> | Estimate | Std. Error | t value | Pr(&gt;|t|) |\n|---|---|---|---|---|\n| (Intercept) | 8744.3344 | 2784.0940 | 3.140819 | 1.823018e-03 |\n| X |  668.4944 |  129.7183 | 5.153430 | 4.208701e-07 |\n\n",
            "text/latex": "A matrix: 2 × 4 of type dbl\n\\begin{tabular}{r|llll}\n  & Estimate & Std. Error & t value & Pr(>\\textbar{}t\\textbar{})\\\\\n\\hline\n\t(Intercept) & 8744.3344 & 2784.0940 & 3.140819 & 1.823018e-03\\\\\n\tX &  668.4944 &  129.7183 & 5.153430 & 4.208701e-07\\\\\n\\end{tabular}\n",
            "text/plain": [
              "            Estimate  Std. Error t value  Pr(>|t|)    \n",
              "(Intercept) 8744.3344 2784.0940  3.140819 1.823018e-03\n",
              "X            668.4944  129.7183  5.153430 4.208701e-07"
            ]
          },
          "metadata": {}
        }
      ]
    },
    {
      "cell_type": "markdown",
      "metadata": {
        "id": "nIpYDmr6ZTOb"
      },
      "source": [
        "### Utilizando nosso modelo estimado para fazer previsões.\n",
        "### Qual seria o consumo de cerveja para um dia com temperatura média de 42° C?"
      ]
    },
    {
      "cell_type": "code",
      "source": [
        "beta_1<-8744.3344\n",
        "beta_2<-668.4944"
      ],
      "metadata": {
        "id": "3QbcXtKersow"
      },
      "execution_count": 133,
      "outputs": []
    },
    {
      "cell_type": "code",
      "source": [
        "prever<-function(x){\n",
        "return(beta_1 + beta_2*x)\n",
        "                   }"
      ],
      "metadata": {
        "id": "1GS5wLjbrQ0I"
      },
      "execution_count": 134,
      "outputs": []
    },
    {
      "cell_type": "markdown",
      "source": [],
      "metadata": {
        "id": "Jas5xeGTrRzw"
      }
    },
    {
      "cell_type": "code",
      "execution_count": 138,
      "metadata": {
        "colab": {
          "base_uri": "https://localhost:8080/",
          "height": 52
        },
        "id": "Th2Akn3ZZTOb",
        "outputId": "8822eae9-5f6e-4983-a7f0-b89ba3f8c3e5"
      },
      "outputs": [
        {
          "output_type": "display_data",
          "data": {
            "text/html": [
              "36821.0992"
            ],
            "text/markdown": "36821.0992",
            "text/latex": "36821.0992",
            "text/plain": [
              "[1] 36821.1"
            ]
          },
          "metadata": {}
        },
        {
          "output_type": "stream",
          "name": "stdout",
          "text": [
            "[1] \"O consumo médio em São Paulo com 42.0 °C no dia seria de aproximadamente 36821.10 \"\n"
          ]
        }
      ],
      "source": [
        "prever(42)\n",
        "print(sprintf(\"O consumo médio em São Paulo com %.1f °C no dia seria de aproximadamente %.2f \", 42, prever(42) ))"
      ]
    },
    {
      "cell_type": "markdown",
      "metadata": {
        "id": "cRNbxk8EZTOd"
      },
      "source": [
        "### Obtenha os resíduos da regressão"
      ]
    },
    {
      "cell_type": "code",
      "execution_count": 140,
      "metadata": {
        "colab": {
          "base_uri": "https://localhost:8080/",
          "height": 255
        },
        "id": "wBzSywQ-ZTOe",
        "outputId": "1c2ab111-7a3b-4c12-bf62-97c68ee474e1"
      },
      "outputs": [
        {
          "output_type": "display_data",
          "data": {
            "text/html": [
              "<table class=\"dataframe\">\n",
              "<caption>A data.frame: 5 × 4</caption>\n",
              "<thead>\n",
              "\t<tr><th></th><th scope=col>X</th><th scope=col>Y</th><th scope=col>Y_previsto</th><th scope=col>u</th></tr>\n",
              "\t<tr><th></th><th scope=col>&lt;dbl&gt;</th><th scope=col>&lt;dbl&gt;</th><th scope=col>&lt;dbl&gt;</th><th scope=col>&lt;dbl&gt;</th></tr>\n",
              "</thead>\n",
              "<tbody>\n",
              "\t<tr><th scope=row>1</th><td>27.30</td><td>25461</td><td>26994.23</td><td> -1533.233</td></tr>\n",
              "\t<tr><th scope=row>2</th><td>27.02</td><td>28972</td><td>26807.05</td><td>  2164.946</td></tr>\n",
              "\t<tr><th scope=row>3</th><td>24.82</td><td>30814</td><td>25336.37</td><td>  5477.633</td></tr>\n",
              "\t<tr><th scope=row>4</th><td>23.98</td><td>29799</td><td>24774.83</td><td>  5024.169</td></tr>\n",
              "\t<tr><th scope=row>5</th><td>23.82</td><td>  289</td><td>24667.87</td><td>-24378.872</td></tr>\n",
              "</tbody>\n",
              "</table>\n"
            ],
            "text/markdown": "\nA data.frame: 5 × 4\n\n| <!--/--> | X &lt;dbl&gt; | Y &lt;dbl&gt; | Y_previsto &lt;dbl&gt; | u &lt;dbl&gt; |\n|---|---|---|---|---|\n| 1 | 27.30 | 25461 | 26994.23 |  -1533.233 |\n| 2 | 27.02 | 28972 | 26807.05 |   2164.946 |\n| 3 | 24.82 | 30814 | 25336.37 |   5477.633 |\n| 4 | 23.98 | 29799 | 24774.83 |   5024.169 |\n| 5 | 23.82 |   289 | 24667.87 | -24378.872 |\n\n",
            "text/latex": "A data.frame: 5 × 4\n\\begin{tabular}{r|llll}\n  & X & Y & Y\\_previsto & u\\\\\n  & <dbl> & <dbl> & <dbl> & <dbl>\\\\\n\\hline\n\t1 & 27.30 & 25461 & 26994.23 &  -1533.233\\\\\n\t2 & 27.02 & 28972 & 26807.05 &   2164.946\\\\\n\t3 & 24.82 & 30814 & 25336.37 &   5477.633\\\\\n\t4 & 23.98 & 29799 & 24774.83 &   5024.169\\\\\n\t5 & 23.82 &   289 & 24667.87 & -24378.872\\\\\n\\end{tabular}\n",
            "text/plain": [
              "  X     Y     Y_previsto u         \n",
              "1 27.30 25461 26994.23    -1533.233\n",
              "2 27.02 28972 26807.05     2164.946\n",
              "3 24.82 30814 25336.37     5477.633\n",
              "4 23.98 29799 24774.83     5024.169\n",
              "5 23.82   289 24667.87   -24378.872"
            ]
          },
          "metadata": {}
        }
      ],
      "source": [
        "dados_consumo_final['u'] <- NULL\n",
        "dados_consumo_final['u'] <- dados_consumo_final$Y - dados_consumo_final$Y_previsto\n",
        "head(dados_consumo_final,5)"
      ]
    },
    {
      "cell_type": "code",
      "source": [
        "# segunda maneira de calcular.\n",
        "dados_consumo_final['Residuos'] <- resultado_regressao$residuals\n",
        "head(dados_consumo_final,5)"
      ],
      "metadata": {
        "colab": {
          "base_uri": "https://localhost:8080/",
          "height": 255
        },
        "id": "RdXMcHBn6Fa-",
        "outputId": "7a8e1f90-0517-4c45-f0d7-1370cc0c6d02"
      },
      "execution_count": 143,
      "outputs": [
        {
          "output_type": "display_data",
          "data": {
            "text/html": [
              "<table class=\"dataframe\">\n",
              "<caption>A data.frame: 5 × 5</caption>\n",
              "<thead>\n",
              "\t<tr><th></th><th scope=col>X</th><th scope=col>Y</th><th scope=col>Y_previsto</th><th scope=col>u</th><th scope=col>Residuos</th></tr>\n",
              "\t<tr><th></th><th scope=col>&lt;dbl&gt;</th><th scope=col>&lt;dbl&gt;</th><th scope=col>&lt;dbl&gt;</th><th scope=col>&lt;dbl&gt;</th><th scope=col>&lt;dbl&gt;</th></tr>\n",
              "</thead>\n",
              "<tbody>\n",
              "\t<tr><th scope=row>1</th><td>27.30</td><td>25461</td><td>26994.23</td><td> -1533.233</td><td> -1533.233</td></tr>\n",
              "\t<tr><th scope=row>2</th><td>27.02</td><td>28972</td><td>26807.05</td><td>  2164.946</td><td>  2164.946</td></tr>\n",
              "\t<tr><th scope=row>3</th><td>24.82</td><td>30814</td><td>25336.37</td><td>  5477.633</td><td>  5477.633</td></tr>\n",
              "\t<tr><th scope=row>4</th><td>23.98</td><td>29799</td><td>24774.83</td><td>  5024.169</td><td>  5024.169</td></tr>\n",
              "\t<tr><th scope=row>5</th><td>23.82</td><td>  289</td><td>24667.87</td><td>-24378.872</td><td>-24378.872</td></tr>\n",
              "</tbody>\n",
              "</table>\n"
            ],
            "text/markdown": "\nA data.frame: 5 × 5\n\n| <!--/--> | X &lt;dbl&gt; | Y &lt;dbl&gt; | Y_previsto &lt;dbl&gt; | u &lt;dbl&gt; | Residuos &lt;dbl&gt; |\n|---|---|---|---|---|---|\n| 1 | 27.30 | 25461 | 26994.23 |  -1533.233 |  -1533.233 |\n| 2 | 27.02 | 28972 | 26807.05 |   2164.946 |   2164.946 |\n| 3 | 24.82 | 30814 | 25336.37 |   5477.633 |   5477.633 |\n| 4 | 23.98 | 29799 | 24774.83 |   5024.169 |   5024.169 |\n| 5 | 23.82 |   289 | 24667.87 | -24378.872 | -24378.872 |\n\n",
            "text/latex": "A data.frame: 5 × 5\n\\begin{tabular}{r|lllll}\n  & X & Y & Y\\_previsto & u & Residuos\\\\\n  & <dbl> & <dbl> & <dbl> & <dbl> & <dbl>\\\\\n\\hline\n\t1 & 27.30 & 25461 & 26994.23 &  -1533.233 &  -1533.233\\\\\n\t2 & 27.02 & 28972 & 26807.05 &   2164.946 &   2164.946\\\\\n\t3 & 24.82 & 30814 & 25336.37 &   5477.633 &   5477.633\\\\\n\t4 & 23.98 & 29799 & 24774.83 &   5024.169 &   5024.169\\\\\n\t5 & 23.82 &   289 & 24667.87 & -24378.872 & -24378.872\\\\\n\\end{tabular}\n",
            "text/plain": [
              "  X     Y     Y_previsto u          Residuos  \n",
              "1 27.30 25461 26994.23    -1533.233  -1533.233\n",
              "2 27.02 28972 26807.05     2164.946   2164.946\n",
              "3 24.82 30814 25336.37     5477.633   5477.633\n",
              "4 23.98 29799 24774.83     5024.169   5024.169\n",
              "5 23.82   289 24667.87   -24378.872 -24378.872"
            ]
          },
          "metadata": {}
        }
      ]
    },
    {
      "cell_type": "markdown",
      "metadata": {
        "id": "v1uM1N_UZTOg"
      },
      "source": [
        "### Plote um gráfico de dispersão dos resíduos da regressão contra o $Y$ previsto"
      ]
    },
    {
      "cell_type": "code",
      "execution_count": 145,
      "metadata": {
        "colab": {
          "base_uri": "https://localhost:8080/",
          "height": 437
        },
        "id": "gyF8kMnzZTOh",
        "outputId": "2d113c9e-7b90-48e1-c8ad-42e2197985ef"
      },
      "outputs": [
        {
          "output_type": "display_data",
          "data": {
            "text/plain": [
              "plot without title"
            ],
            "image/png": "[encoded data removed]"
          },
          "metadata": {
            "image/png": {
              "width": 420,
              "height": 420
            }
          }
        }
      ],
      "source": [
        "ggplot(data = dados_consumo_final, aes(x = X, y = Residuos)) +\n",
        "    geom_hline(yintercept = 0, color = 'black') +\n",
        "    geom_point(size = 2.5, stroke = 0) +\n",
        "    xlab(\"X\") +\n",
        "    ylab(\"Resíduos\") +\n",
        "    ggtitle('Resíduos vs Variável Independente (temperatura)') +\n",
        "    theme(\n",
        "        plot.title = element_text(size = 16, hjust = 0.5),\n",
        "        axis.title.y = element_text(size = 14, vjust = 0.2),\n",
        "        axis.title.x = element_text(size = 14, vjust = -0.2),\n",
        "        axis.text.y = element_text(size = 14),\n",
        "        axis.text.x = element_text(size = 14)\n",
        "    )\n"
      ]
    },
    {
      "cell_type": "code",
      "source": [
        "ggplot(data = dados_consumo_final, aes(x = Y_previsto, y = Residuos)) +\n",
        "    geom_hline(yintercept = 0, color = 'black') +\n",
        "    geom_point(size = 2.5, stroke = 0) +\n",
        "    xlab(\"Y_Previsto\") +\n",
        "    ylab(\"Resíduos\") +\n",
        "    ggtitle('Resíduos vs Y_Previsto') +\n",
        "    theme(\n",
        "        plot.title = element_text(size = 16, hjust = 0.5),\n",
        "        axis.title.y = element_text(size = 14, vjust = 0.2),\n",
        "        axis.title.x = element_text(size = 14, vjust = -0.2),\n",
        "        axis.text.y = element_text(size = 14),\n",
        "        axis.text.x = element_text(size = 14)\n",
        "    )"
      ],
      "metadata": {
        "colab": {
          "base_uri": "https://localhost:8080/",
          "height": 437
        },
        "id": "cd6618lr6j5V",
        "outputId": "cf2fdff6-98ab-4574-d7a7-421ff722845d"
      },
      "execution_count": 146,
      "outputs": [
        {
          "output_type": "display_data",
          "data": {
            "text/plain": [
              "plot without title"
            ],
            "image/png": "[encoded data removed]"
          },
          "metadata": {
            "image/png": {
              "width": 420,
              "height": 420
            }
          }
        }
      ]
    },
    {
      "cell_type": "markdown",
      "metadata": {
        "id": "XFr505IvZcR2"
      },
      "source": [
        "### Obtenha o R² da regressão pelo método da soma dos quadrados\n",
        "\n",
        "# $$R^2 = \\frac{SQR}{SQT}$$\n"
      ]
    },
    {
      "cell_type": "code",
      "execution_count": 147,
      "metadata": {
        "colab": {
          "base_uri": "https://localhost:8080/",
          "height": 161
        },
        "id": "GxX3EpMfZTOn",
        "outputId": "a313a5aa-60ae-451f-bbd6-dbf19a5eaca0"
      },
      "outputs": [
        {
          "output_type": "display_data",
          "data": {
            "text/html": [
              "<table class=\"dataframe\">\n",
              "<caption>A anova: 2 × 5</caption>\n",
              "<thead>\n",
              "\t<tr><th></th><th scope=col>Df</th><th scope=col>Sum Sq</th><th scope=col>Mean Sq</th><th scope=col>F value</th><th scope=col>Pr(&gt;F)</th></tr>\n",
              "\t<tr><th></th><th scope=col>&lt;int&gt;</th><th scope=col>&lt;dbl&gt;</th><th scope=col>&lt;dbl&gt;</th><th scope=col>&lt;dbl&gt;</th><th scope=col>&lt;dbl&gt;</th></tr>\n",
              "</thead>\n",
              "<tbody>\n",
              "\t<tr><th scope=row>X</th><td>  1</td><td> 1645055808</td><td>1645055808</td><td>26.55785</td><td>4.208701e-07</td></tr>\n",
              "\t<tr><th scope=row>Residuals</th><td>363</td><td>22485079150</td><td>  61942367</td><td>      NA</td><td>          NA</td></tr>\n",
              "</tbody>\n",
              "</table>\n"
            ],
            "text/markdown": "\nA anova: 2 × 5\n\n| <!--/--> | Df &lt;int&gt; | Sum Sq &lt;dbl&gt; | Mean Sq &lt;dbl&gt; | F value &lt;dbl&gt; | Pr(&gt;F) &lt;dbl&gt; |\n|---|---|---|---|---|---|\n| X |   1 |  1645055808 | 1645055808 | 26.55785 | 4.208701e-07 |\n| Residuals | 363 | 22485079150 |   61942367 |       NA |           NA |\n\n",
            "text/latex": "A anova: 2 × 5\n\\begin{tabular}{r|lllll}\n  & Df & Sum Sq & Mean Sq & F value & Pr(>F)\\\\\n  & <int> & <dbl> & <dbl> & <dbl> & <dbl>\\\\\n\\hline\n\tX &   1 &  1645055808 & 1645055808 & 26.55785 & 4.208701e-07\\\\\n\tResiduals & 363 & 22485079150 &   61942367 &       NA &           NA\\\\\n\\end{tabular}\n",
            "text/plain": [
              "          Df  Sum Sq      Mean Sq    F value  Pr(>F)      \n",
              "X           1  1645055808 1645055808 26.55785 4.208701e-07\n",
              "Residuals 363 22485079150   61942367       NA           NA"
            ]
          },
          "metadata": {}
        }
      ],
      "source": [
        "anova <- anova(resultado_regressao)\n",
        "anova"
      ]
    },
    {
      "cell_type": "code",
      "execution_count": 148,
      "metadata": {
        "colab": {
          "base_uri": "https://localhost:8080/",
          "height": 34
        },
        "id": "5iSFXLvyZTOq",
        "outputId": "e4dc529b-524b-49a9-e627-e380aa8d9da7"
      },
      "outputs": [
        {
          "output_type": "display_data",
          "data": {
            "text/html": [
              "22485079150.2057"
            ],
            "text/markdown": "22485079150.2057",
            "text/latex": "22485079150.2057",
            "text/plain": [
              "[1] 22485079150"
            ]
          },
          "metadata": {}
        }
      ],
      "source": [
        "SQE <- sum(apply(dados_consumo_final, 1, function(x) x['Residuos']^2))\n",
        "SQE"
      ]
    },
    {
      "cell_type": "code",
      "execution_count": 150,
      "metadata": {
        "colab": {
          "base_uri": "https://localhost:8080/",
          "height": 34
        },
        "id": "mNm5V2r8ZTOs",
        "outputId": "364c7d97-5809-485c-b060-8849c12bd0e4"
      },
      "outputs": [
        {
          "output_type": "display_data",
          "data": {
            "text/html": [
              "24130134958.537"
            ],
            "text/markdown": "24130134958.537",
            "text/latex": "24130134958.537",
            "text/plain": [
              "[1] 24130134959"
            ]
          },
          "metadata": {}
        }
      ],
      "source": [
        "# Soma dos quadrados Totais.\n",
        "SQT <- sum(apply(dados_consumo_final, 1, function(x) (x['Y']-mean(dados_consumo_final$Y))^2))\n",
        "SQT"
      ]
    },
    {
      "cell_type": "code",
      "execution_count": 151,
      "metadata": {
        "colab": {
          "base_uri": "https://localhost:8080/",
          "height": 34
        },
        "id": "4wnz--cwZTOu",
        "outputId": "651d02b6-c1f5-4bd1-b2a1-9eec56348ef5"
      },
      "outputs": [
        {
          "output_type": "display_data",
          "data": {
            "text/html": [
              "1645055808.33131"
            ],
            "text/markdown": "1645055808.33131",
            "text/latex": "1645055808.33131",
            "text/plain": [
              "[1] 1645055808"
            ]
          },
          "metadata": {}
        }
      ],
      "source": [
        "# soma dos quadrados da regressão.\n",
        "SQR <- sum(apply(dados_consumo_final, 1, function(x) (x['Y_previsto']-mean(dados_consumo_final$Y))^2))\n",
        "SQR"
      ]
    },
    {
      "cell_type": "code",
      "execution_count": 152,
      "metadata": {
        "colab": {
          "base_uri": "https://localhost:8080/",
          "height": 34
        },
        "id": "JgBLHvclZTOw",
        "outputId": "2d88970e-af04-4af0-9a95-94526a969948"
      },
      "outputs": [
        {
          "output_type": "display_data",
          "data": {
            "text/html": [
              "0.0681743310245893"
            ],
            "text/markdown": "0.0681743310245893",
            "text/latex": "0.0681743310245893",
            "text/plain": [
              "[1] 0.06817433"
            ]
          },
          "metadata": {}
        }
      ],
      "source": [
        "R2 <- SQR/SQT\n",
        "R2"
      ]
    },
    {
      "cell_type": "code",
      "source": [
        "resumo <- summary (resultado_regressao)\n",
        "resumo"
      ],
      "metadata": {
        "colab": {
          "base_uri": "https://localhost:8080/",
          "height": 329
        },
        "id": "B8XxOZkw7ROQ",
        "outputId": "977e6337-f15f-42bf-cb7e-f905304ecce2"
      },
      "execution_count": 153,
      "outputs": [
        {
          "output_type": "display_data",
          "data": {
            "text/plain": [
              "\n",
              "Call:\n",
              "lm(formula = Y ~ X, data = dados_consumo_final)\n",
              "\n",
              "Residuals:\n",
              "   Min     1Q Median     3Q    Max \n",
              "-24766  -1216   1365   4518  11657 \n",
              "\n",
              "Coefficients:\n",
              "            Estimate Std. Error t value Pr(>|t|)    \n",
              "(Intercept)   8744.3     2784.1   3.141  0.00182 ** \n",
              "X              668.5      129.7   5.153 4.21e-07 ***\n",
              "---\n",
              "Signif. codes:  0 ‘***’ 0.001 ‘**’ 0.01 ‘*’ 0.05 ‘.’ 0.1 ‘ ’ 1\n",
              "\n",
              "Residual standard error: 7870 on 363 degrees of freedom\n",
              "Multiple R-squared:  0.06817,\tAdjusted R-squared:  0.06561 \n",
              "F-statistic: 26.56 on 1 and 363 DF,  p-value: 4.209e-07\n"
            ]
          },
          "metadata": {}
        }
      ]
    },
    {
      "cell_type": "code",
      "source": [
        "resumo$r.squared # vamos vereificar se conseguimos o mesmo R2"
      ],
      "metadata": {
        "colab": {
          "base_uri": "https://localhost:8080/",
          "height": 34
        },
        "id": "OwhejQV77Uvx",
        "outputId": "bf517c49-c2ff-47c3-b3fa-95ec49182966"
      },
      "execution_count": 154,
      "outputs": [
        {
          "output_type": "display_data",
          "data": {
            "text/html": [
              "0.0681743310245893"
            ],
            "text/markdown": "0.0681743310245893",
            "text/latex": "0.0681743310245893",
            "text/plain": [
              "[1] 0.06817433"
            ]
          },
          "metadata": {}
        }
      ]
    }
  ],
  "metadata": {
    "kernelspec": {
      "display_name": "R",
      "language": "R",
      "name": "ir"
    },
    "language_info": {
      "codemirror_mode": "r",
      "file_extension": ".r",
      "mimetype": "text/x-r-source",
      "name": "R",
      "pygments_lexer": "r",
      "version": "3.6.1"
    },
    "colab": {
      "provenance": [],
      "toc_visible": true
    }
  },
  "nbformat": 4,
  "nbformat_minor": 0
}